{
 "cells": [
  {
   "cell_type": "markdown",
   "id": "1d964b9a",
   "metadata": {
    "slideshow": {
     "slide_type": "slide"
    }
   },
   "source": [
    "<header style=\"background-image: url('img/typewriter-801921_640.jpg'); background-size: cover; padding: 50px 0;background-repeat: no-repeat;\">\n",
    "  <div style=\"padding: 10px 25px; background-color: #fff9 !important;\">\n",
    "    <h1 style=\"color: black;text-shadow: #fff 5px 5px 0px; margin-bottom: 2em\">Document your project<br/>with Markdown, Sphinx,<br/>and Read the Docs</h1>\n",
    "  </div>\n",
    "</header>"
   ]
  },
  {
   "cell_type": "markdown",
   "id": "9d95b125",
   "metadata": {
    "slideshow": {
     "slide_type": "notes"
    }
   },
   "source": [
    "The talk will loosely follow the structure of the official Sphinx tutorial, using Markdown instead of reStructuredText to be more approachable for contributors. It has an estimate duration of 90-120 minutes.\n",
    "\n",
    "-1. Creating your Sphinx project (15 minutes)\n",
    "\n",
    "Tutorial introduction, basic project scaffolding using sphinx-quickstart, explanation of the different files that were created.\n",
    "\n",
    "-2. MyST vs reStructuredText (5 minutes)\n",
    "\n",
    "Differences between the two markup languages, current status of the ecosystem, pros and cons.\n",
    "\n",
    "-3. Write Markdown, build HTML (15 minutes)\n",
    "\n",
    "First steps writing prose documentation using MyST, a flavor of Markdown compatible with Sphinx that adds roles and directives from reStructuredText. Building of HTML documentation using the Sphinx Makefile.\n",
    "\n",
    "-4. Customizing Sphinx (5 minutes)\n",
    "\n",
    "Enabling extensions: sphinx.ext.durations to measure performance, furo to use different HTML themes.\n",
    "\n",
    "-5. Adding cross references (15 minutes)\n",
    "\n",
    "Adding cross references to other pages of the documentation, specific targets, and objects outside our own project using intersphinx.\n",
    "\n",
    "-6. Integrating Jupyter notebooks (10 minutes)\n",
    "\n",
    "Using Jupyter notebooks as pages for the Sphinx documentation, tips and tricks for interactive widgets.\n",
    "\n",
    "-7. Documenting code automatically (15 minutes)\n",
    "\n",
    "Leveraging Sphinx code documentation capabilities. Using autodoc to integrate docs from Python docstrings.\n",
    "\n",
    "-8. Deploying to Read the Docs (10 minutes)\n",
    "\n",
    "Creating a project on Read the Docs for automatic deployment of the documentation. Enabling pull request reviews."
   ]
  },
  {
   "cell_type": "markdown",
   "id": "8d2e83fb",
   "metadata": {
    "slideshow": {
     "slide_type": "slide"
    }
   },
   "source": [
    "# Contents\n",
    "\n",
    "1. Creating your Sphinx project\n",
    "2. MyST vs reStructuredText\n",
    "3. Write Markdown, build HTML\n",
    "4. Customizing Sphinx\n",
    "5. Adding cross references\n",
    "6. Integrating Jupyter notebooks\n",
    "7. Documenting code automatically\n",
    "8. Deploying to Read the Docs"
   ]
  },
  {
   "cell_type": "markdown",
   "id": "e6ac8293",
   "metadata": {
    "slideshow": {
     "slide_type": "slide"
    }
   },
   "source": [
    "# 1. Creating your Sphinx project\n",
    "\n",
    "![Sphinx logo](img/sphinx-logo.png)\n",
    "\n",
    "> Sphinx is a tool that makes it easy to create intelligent and beautiful documentation\n",
    "\n",
    "https://www.sphinx-doc.org/"
   ]
  },
  {
   "cell_type": "markdown",
   "id": "510f91e5",
   "metadata": {
    "slideshow": {
     "slide_type": "subslide"
    },
    "tags": []
   },
   "source": [
    "- Sphinx reads **source files** and generates an **output**\n",
    "- The source files can be reStructuredText, **Markdown**, **Python**, Jupyter notebooks, images, ...\n",
    "- The **output** can be **HTML**, PDF, _man pages_, EPUB, ..."
   ]
  },
  {
   "cell_type": "markdown",
   "id": "8de8fdf7",
   "metadata": {
    "slideshow": {
     "slide_type": "fragment"
    }
   },
   "source": [
    "- Therefore, Sphinx can also be considered a **static site generator** (SSG)!"
   ]
  },
  {
   "cell_type": "markdown",
   "id": "1069fab3",
   "metadata": {
    "slideshow": {
     "slide_type": "subslide"
    }
   },
   "source": [
    "Some interesting functionalities:\n",
    "\n",
    "- Multiple different **output formats** (\"builders\")\n",
    "- **Cross-references** and automatic hyperlinks for functions, classes, figures, glossary terms, and more\n",
    "- **Hierarchical structure** using trees of documents, with automatic breadcrumbs\n",
    "- **Automatic numbering**\n",
    "- **Code loading capabilities** and syntax highlight\n",
    "- **Extensible**! https://sphinx-extensions.readthedocs.io/"
   ]
  },
  {
   "cell_type": "markdown",
   "id": "2139330b",
   "metadata": {
    "slideshow": {
     "slide_type": "slide"
    }
   },
   "source": [
    "**Objetive**: Document a tiny Python library, available at https://github.com/readthedocs/tutorial-sphinx-markdown-library (and a submodule of this repository)\n",
    "\n",
    "![Lumache README](img/lumache-readme.png)"
   ]
  },
  {
   "cell_type": "markdown",
   "id": "02604bf0",
   "metadata": {
    "slideshow": {
     "slide_type": "subslide"
    }
   },
   "source": [
    "# It's demo time!"
   ]
  },
  {
   "cell_type": "markdown",
   "id": "ca740190-1a24-4e7a-a15d-8b4aab552ee2",
   "metadata": {
    "slideshow": {
     "slide_type": "slide"
    },
    "tags": []
   },
   "source": [
    "# Where to go from here\n",
    "\n",
    "- This tutorial https://github.com/readthedocs/tutorial-sphinx-markdown\n",
    "- MyST intro https://myst-parser.readthedocs.io/en/latest/sphinx/intro.html\n",
    "- Sphinx tutorial (in reST) https://www.sphinx-doc.org/en/master/tutorial/\n",
    "- Read the Docs tutorial https://docs.readthedocs.io/en/stable/tutorial/\n",
    "\n",
    "💌 <support@readthedocs.org>\n",
    "\n",
    "Thank you!"
   ]
  }
 ],
 "metadata": {
  "celltoolbar": "Slideshow",
  "kernelspec": {
   "display_name": "Python 3 (ipykernel)",
   "language": "python",
   "name": "python3"
  },
  "language_info": {
   "codemirror_mode": {
    "name": "ipython",
    "version": 3
   },
   "file_extension": ".py",
   "mimetype": "text/x-python",
   "name": "python",
   "nbconvert_exporter": "python",
   "pygments_lexer": "ipython3",
   "version": "3.9.9"
  }
 },
 "nbformat": 4,
 "nbformat_minor": 5
}
